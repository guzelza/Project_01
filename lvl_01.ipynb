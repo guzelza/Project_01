{
  "cells": [
    {
      "cell_type": "markdown",
      "metadata": {
        "id": "view-in-github",
        "colab_type": "text"
      },
      "source": [
        "<a href=\"https://colab.research.google.com/github/guzelza/Project_01/blob/main/lvl_01.ipynb\" target=\"_parent\"><img src=\"https://colab.research.google.com/assets/colab-badge.svg\" alt=\"Open In Colab\"/></a>"
      ]
    },
    {
      "cell_type": "code",
      "execution_count": null,
      "metadata": {
        "colab": {
          "base_uri": "https://localhost:8080/",
          "height": 35
        },
        "id": "sKrsiMy1ljCQ",
        "outputId": "8c114ce5-916c-492b-93ea-4743b2aa8421"
      },
      "outputs": [
        {
          "data": {
            "application/vnd.google.colaboratory.intrinsic+json": {
              "type": "string"
            },
            "text/plain": [
              "\"Waste a Moment New Salvation Staying' Alive Start Me Up\""
            ]
          },
          "execution_count": 56,
          "metadata": {},
          "output_type": "execute_result"
        }
      ],
      "source": [
        "# Задача 1\n",
        "# Задача 1.1. - Галлямова Гузель\n",
        "\n",
        "# Есть строка с перечислением песен\n",
        "\n",
        "my_favorite_songs = 'Waste a Moment, Staying\\' Alive, A Sorta Fairytale, Start Me Up, New Salvation'\n",
        "# Выведите на консоль с помощью индексации строки, последовательно: первый трек, последний, второй, второй с конца\n",
        "# Нельзя переопределять my_favorite_songs и запятая не должна выводиться.\n",
        "\n",
        "type(my_favorite_songs)\n",
        "\n",
        "len(my_favorite_songs)\n",
        "my_favorite_songs [0:14] + my_favorite_songs [63:] + my_favorite_songs [15:30] + my_favorite_songs [50:62]"
      ]
    },
    {
      "cell_type": "code",
      "execution_count": null,
      "metadata": {
        "colab": {
          "base_uri": "https://localhost:8080/"
        },
        "id": "XNZbb-P1Ppp5",
        "outputId": "97ad87d4-d641-4ae4-d138-38fd7baaeb32"
      },
      "outputs": [
        {
          "name": "stdout",
          "output_type": "stream",
          "text": [
            "Три песни звучат 11.11 минут\n"
          ]
        }
      ],
      "source": [
        "# Задача 2\n",
        "# Задача 1.2. - Галлямова Гузель\n",
        "\n",
        "# Пункт A. \n",
        "# Приведем плейлист песен в виде списка списков\n",
        "# Список my_favorite_songs содержит список названий и длительности каждого трека\n",
        "# Выведите общее время звучания трех случайных песен в формате\n",
        "# Три песни звучат ХХХ минут\n",
        "my_favorite_songs = [\n",
        "    ['Waste a Moment', 3.03],\n",
        "    ['New Salvation', 4.02],\n",
        "    ['Staying\\' Alive', 3.40],\n",
        "    ['Out of Touch', 3.03],\n",
        "    ['A Sorta Fairytale', 5.28],\n",
        "    ['Easy', 4.15],\n",
        "    ['Beautiful Day', 4.04],\n",
        "    ['Nowhere to Run', 2.58],\n",
        "    ['In This World', 4.02],\n",
        "]\n",
        "# Пункт B. \n",
        "# Есть словарь песен \n",
        "# Распечатайте общее время звучания трех случайных песен\n",
        "# Вывод: Три песни звучат ХХХ минут.\n",
        "my_favorite_songs_dict = {\n",
        "    'Waste a Moment': 3.03,\n",
        "    'New Salvation': 4.02,\n",
        "    'Staying\\' Alive': 3.40,\n",
        "    'Out of Touch': 3.03,\n",
        "    'A Sorta Fairytale': 5.28,\n",
        "    'Easy': 4.15,\n",
        "    'Beautiful Day': 4.04,\n",
        "    'Nowhere to Run': 2.58,\n",
        "    'In This World': 4.02,\n",
        "}\n",
        "# Дополнительно для пунктов A и B\n",
        "# Пункт C.\n",
        "# Сгенерируйте случайные песни с помощью модуля random\n",
        "# import random\n",
        "# Дополнительно \n",
        "# Пункт D.\n",
        "\n",
        "#Пункт A - Галлямова Гузель\n",
        "import random\n",
        "i = random.choice(my_favorite_songs)[1]+ random.choice(my_favorite_songs)[1] + random.choice(my_favorite_songs)[1]\n",
        "print (\"Три песни звучат\", (i), \"минут\")\n",
        "# не понимаю, почему не сработала эта команда (совет из интернета)??? \n",
        "# data = random.choices(list(my_favorite_songs.values()), k=3)\n",
        "# print(data)"
      ]
    },
    {
      "cell_type": "code",
      "execution_count": null,
      "metadata": {
        "colab": {
          "base_uri": "https://localhost:8080/"
        },
        "id": "u4bCEyv3Z5kU",
        "outputId": "342be5c2-eb16-4976-a59c-dbfe4efab790"
      },
      "outputs": [
        {
          "name": "stdout",
          "output_type": "stream",
          "text": [
            "11.88\n"
          ]
        }
      ],
      "source": [
        "#Пункт В - Галлямова Гузель\n",
        "import random\n",
        "#i = random my_favorite_songs_dict\n",
        "#print (\"Три песни звучат\", (i), \"минут\")\n",
        "i = sum (random.choices(list(my_favorite_songs_dict.values()), k = 3))\n",
        "print (i)"
      ]
    },
    {
      "cell_type": "code",
      "execution_count": null,
      "metadata": {
        "colab": {
          "base_uri": "https://localhost:8080/"
        },
        "id": "gFyQWvg6Ai4L",
        "outputId": "c5d498b8-d4f9-4d00-fb2d-43a84e554375"
      },
      "outputs": [
        {
          "name": "stdout",
          "output_type": "stream",
          "text": [
            "Введите номер месяца: 15\n",
            "Такого месяца нет!\n"
          ]
        }
      ],
      "source": [
        "# Задача 3\n",
        "# Задача 1.3. - Галлямова Гузель\n",
        "\n",
        "# Напишите скрипт, который принимает от пользователя номер месяца, \n",
        "# а возвращает количество дней в нем.\n",
        "# Результат проверки вывести на консоль\n",
        "# Допущение: в феврале 28 дней\n",
        "# Если номер месяца некорректен - сообщить об этом\n",
        "# Например,\n",
        "    # Введите номер месяца: 3\n",
        "    # Вы ввели март. 31 дней\n",
        "    # Введите номер месяца: 2\n",
        "    # Вы ввели февраль. 28 дней\n",
        "    # Введите номер месяца: 15\n",
        "    # Такого месяца нет!\n",
        "\n",
        "months_by_names= { 1 : 'январь',\n",
        "                    2 : 'февраль',\n",
        "                    3 : 'март',\n",
        "                    4 : 'апрель',\n",
        "                    5 : 'май',\n",
        "                    6 : 'июнь',\n",
        "                    7 : 'июль',\n",
        "                    8 : 'август',\n",
        "                    9 : 'сентябрь',\n",
        "                    10 : 'октябрь',\n",
        "                    11 : 'ноябрь',\n",
        "                    12 : 'декабрь'}\n",
        "months_by_days= {1:'31',\n",
        "                    2:'28',\n",
        "                    3:'31',\n",
        "                    4:'30',\n",
        "                    5:'31',\n",
        "                    6:'30',\n",
        "                    7:'31',\n",
        "                    8:'31',\n",
        "                    9:'30',\n",
        "                    10:'31',\n",
        "                    11:'30',\n",
        "                    12:'31'}             \n",
        "\n",
        "try:\n",
        "   selection = input('Введите номер месяца: ')\n",
        "   print('Вы ввели', months_by_names [int(selection)],'.',months_by_days [int(selection)]) \n",
        "except KeyError:\n",
        "   print('Такого месяца нет!')"
      ]
    },
    {
      "cell_type": "code",
      "source": [
        "# Задача 1.4. - Галлямова Гузель\n",
        "\n",
        "# Есть словарь кодов товаров titles\n",
        "\n",
        "titles = {\n",
        "    'Кроссовки тип 3 (Adidas)': '100000110',\n",
        "    'Мячик тип 2 (Adidas)': '100000146',\n",
        "    'Кепка тип 1 (Adidas)': '100000149',\n",
        "    'Ремень тип 2 (Nike)': '100000194',\n",
        "    'Футболка тип 1 (Adidas)': '100000224',\n",
        "    'Шапка тип 5 (Puma)': '100000280',\n",
        "}\n",
        "\n",
        "# Товары находятся на складе и сохранены в виде словаря списков словарей,\n",
        "# которые отражают количество товаров в магазине по каждому коду.\n",
        "\n",
        "store = {\n",
        "    '100000110': [{'quantity': 31, 'price': 1637}],\n",
        "    '100000146': [ {'quantity': 4, 'price': 45}, {'quantity': 10, 'price': 48}],\n",
        "    '100000149': [ {'quantity': 28, 'price': 279}, {'quantity': 32, 'price': 291}],\n",
        "    '100000194': [{'quantity': 8, 'price': 220}, {'quantity': 1, 'price': 170}],\n",
        "    '100000224': [{'quantity': 61, 'price': 438}, {'quantity': 23, 'price': 302},  {'quantity': 50, 'price': 412}],\n",
        "    '100000280': [{'quantity': 26, 'price': 175}, ]\n",
        "}\n",
        "\n",
        "# Рассчитайте на какую сумму лежит каждого товара на складе.\n",
        "#\n",
        "# Вывести суммарную стоимость каждого товара в магазине в формате:\n",
        "# \"<товар> - <кол-во> шт, стоимость <общая стоимость> руб\"\n",
        "\n",
        "# Пример: \"Кроссовки тип 3 (Adidas) - 31 шт, стоимость 50747 руб\"\n",
        "\n",
        "\n",
        "inverse_titles = {value: key for key, value in titles.items()}\n",
        "# print(inverse_titles)\n",
        "\n",
        "summary = {}\n",
        "for k, v in inverse_titles.items():\n",
        "  summary[v] = store[k]\n",
        "# print(summary)\n",
        "\n",
        "names = ['Кроссовки тип 3 (Adidas)','Мячик тип 2 (Adidas)','Кепка тип 1 (Adidas)','Ремень тип 2 (Nike)','Футболка тип 1 (Adidas)','Шапка тип 5 (Puma)']\n",
        "for i in names:  \n",
        "  total_q = 0\n",
        "  for j in summary[i]:\n",
        "        total_q +=j['quantity']\n",
        "#   print(total_q)\n",
        "\n",
        "  total_p = 0\n",
        "  for j in summary[i]:\n",
        "    total_p +=j['quantity']*j['price']\n",
        "#   print(total_p)  \n",
        "\n",
        "  print(i,'-',total_q,'шт,', 'стоимость',total_p,'руб')\n"
      ],
      "metadata": {
        "colab": {
          "base_uri": "https://localhost:8080/"
        },
        "id": "0IRnTp_nVvD7",
        "outputId": "b1c76476-dd64-4425-be84-6ecb644eba7d"
      },
      "execution_count": 258,
      "outputs": [
        {
          "output_type": "stream",
          "name": "stdout",
          "text": [
            "Кроссовки тип 3 (Adidas) - 31 шт, стоимость 50747 руб\n",
            "Мячик тип 2 (Adidas) - 14 шт, стоимость 660 руб\n",
            "Кепка тип 1 (Adidas) - 60 шт, стоимость 17124 руб\n",
            "Ремень тип 2 (Nike) - 9 шт, стоимость 1930 руб\n",
            "Футболка тип 1 (Adidas) - 134 шт, стоимость 54264 руб\n",
            "Шапка тип 5 (Puma) - 26 шт, стоимость 4550 руб\n"
          ]
        }
      ]
    },
    {
      "cell_type": "code",
      "source": [],
      "metadata": {
        "id": "2baeMpyDZmJy"
      },
      "execution_count": 172,
      "outputs": []
    }
  ],
  "metadata": {
    "colab": {
      "provenance": [],
      "authorship_tag": "ABX9TyPDNWzhihVKmcJmX0v91UsX",
      "include_colab_link": true
    },
    "kernelspec": {
      "display_name": "Python 3",
      "name": "python3"
    },
    "language_info": {
      "name": "python"
    }
  },
  "nbformat": 4,
  "nbformat_minor": 0
}