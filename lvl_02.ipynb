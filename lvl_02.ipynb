{
  "nbformat": 4,
  "nbformat_minor": 0,
  "metadata": {
    "colab": {
      "provenance": [],
      "authorship_tag": "ABX9TyMi++HlRhLxAAwbrrryfpUv",
      "include_colab_link": true
    },
    "kernelspec": {
      "name": "python3",
      "display_name": "Python 3"
    },
    "language_info": {
      "name": "python"
    }
  },
  "cells": [
    {
      "cell_type": "markdown",
      "metadata": {
        "id": "view-in-github",
        "colab_type": "text"
      },
      "source": [
        "<a href=\"https://colab.research.google.com/github/guzelza/Project_01/blob/main/lvl_02.ipynb\" target=\"_parent\"><img src=\"https://colab.research.google.com/assets/colab-badge.svg\" alt=\"Open In Colab\"/></a>"
      ]
    },
    {
      "cell_type": "code",
      "execution_count": 65,
      "metadata": {
        "colab": {
          "base_uri": "https://localhost:8080/"
        },
        "id": "v8O2hetmwTTN",
        "outputId": "730a2464-836b-4855-e685-26d369326600"
      },
      "outputs": [
        {
          "output_type": "stream",
          "name": "stdout",
          "text": [
            "max =  566 , min =  -134\n"
          ]
        }
      ],
      "source": [
        "# Задача 2.1. - Галлямова Гузель\n",
        "\n",
        "# Создайте две функции maximum и minimum,\n",
        "# которые получают список целых чисел в качестве входных данных \n",
        "# и возвращают наибольшее и наименьшее число в этом списке соответственно.\n",
        "# Например,\n",
        "# * [4,6,2,1,9,63,-134,566]         -> max = 566, min = -134\n",
        "# * [-52, 56, 30, 29, -54, 0, -110] -> min = -110, max = 56\n",
        "# * [42, 54, 65, 87, 0]             -> min = 0, max = 87\n",
        "# * [5]                             -> min = 5, max = 5\n",
        "# функции sorted, max и min использовать нельзя!\n",
        "\n",
        "def minimum(arr):\n",
        "    min = arr[0]\n",
        "    for i in arr:\n",
        "        if i <= min:\n",
        "            min = i\n",
        "    return min\n",
        "\n",
        "def maximum(arr):\n",
        "    max = arr[0]\n",
        "    for i in arr:\n",
        "        if i >= max:\n",
        "            max = i\n",
        "    return max\n",
        "\n",
        "arr = [4,6,2,1,9,63,-134,566]\n",
        "print('max = ', maximum(arr),', min = ', minimum(arr))\n"
      ]
    },
    {
      "cell_type": "code",
      "source": [
        "# Задача 2.2. - Гузель Галлямова\n",
        "\n",
        "# Напишите функцию, которая возвращает номер квартал по номеру месяца\n",
        "# Например: \n",
        "# месяц 2 (февраль) является частью первого квартала; \n",
        "# месяц 6 (июнь) является частью второго квартала; \n",
        "# месяц 11 (ноябрь) является частью четвертого квартала.\n",
        "\n",
        "quarters = {\n",
        "        1: 1,\n",
        "        2: 1,\n",
        "        3: 1,\n",
        "        4: 2,\n",
        "        5: 2,\n",
        "        6: 2,\n",
        "        7: 3,\n",
        "        8: 3,\n",
        "        9: 3,\n",
        "        10: 4,\n",
        "        11: 4,\n",
        "        12: 4\n",
        "    }\n",
        "month = int(input('Введите номер месяца: '))\n",
        "def quarter_of(month):\n",
        "    if month in quarters:\n",
        "        return quarters[month]\n",
        "    else: print('Вы ввели неправильный номер месяца!')\n",
        "print('месяц',month,'является частью', quarter_of(month), 'квартала')\n",
        "\n"
      ],
      "metadata": {
        "colab": {
          "base_uri": "https://localhost:8080/"
        },
        "id": "le-2hZZAU6dp",
        "outputId": "7978e4a1-0e02-40ec-fca8-7dea1fd3591a"
      },
      "execution_count": 40,
      "outputs": [
        {
          "output_type": "stream",
          "name": "stdout",
          "text": [
            "Введите номер месяца: 5\n",
            "месяц 5 является частью 2 квартала\n"
          ]
        }
      ]
    },
    {
      "cell_type": "code",
      "source": [
        "# Задача 2.3. - Гузель Галлямова\n",
        "\n",
        "# Напишите функцию, которая принимает цифры от 0 до 9 и возвращает значение прописью.\n",
        "# Например,\n",
        "# switch_it_up(1) -> 'One'\n",
        "# switch_it_up(3) -> 'Three'\n",
        "# switch_it_up(10000) -> None\n",
        "# Использовать условный оператор if-elif-else нельзя!\n",
        "\n",
        "numbers = {\n",
        "        1: 'One',\n",
        "        2: 'Two',\n",
        "        3: 'Three',\n",
        "        4: 'Four',\n",
        "        5: 'Five',\n",
        "        6: 'Six',\n",
        "        7: 'Seven',\n",
        "        8: 'Eight',\n",
        "        9: 'Nine',\n",
        "}        \n",
        "\n",
        "number = int(input('Введите цифру от 0 до 9: '))\n",
        "def switch_it_up(number):\n",
        "    try:\n",
        "        return numbers[number]\n",
        "    except KeyError:\n",
        "        print('None') \n",
        "print(number,'->', switch_it_up(number))\n"
      ],
      "metadata": {
        "colab": {
          "base_uri": "https://localhost:8080/"
        },
        "id": "E0KyyqN-kNHU",
        "outputId": "bd9c08a7-ba30-4424-dfb0-0f2ba5fb6f40"
      },
      "execution_count": 59,
      "outputs": [
        {
          "output_type": "stream",
          "name": "stdout",
          "text": [
            "Введите цифру от 0 до 9: 11\n",
            "None\n",
            "11 -> None\n"
          ]
        }
      ]
    },
    {
      "cell_type": "code",
      "source": [
        "from os import remove\n",
        "# Задача 2.4.\n",
        "\n",
        "# Пункт A. - Гузель Галлямова\n",
        "# Напишите функцию, которая удаляет все восклицательные знаки из заданной строк.\n",
        "# Например,\n",
        "# foo(\"Hi! Hello!\") -> \"Hi Hello\"\n",
        "# foo(\"\") -> \"\"\n",
        "# foo(\"Oh, no!!!\") -> \"Oh, no\"\n",
        "\n",
        "\n",
        "def remove_exclamation_marks(s):\n",
        "  sentense = input('Введите восклицательное предложение/предложения: ')\n",
        "  excl = '!'\n",
        "  for i in sentense:\n",
        "      sentense = sentense.replace(excl,\"\")\n",
        "      return sentense\n",
        "print(remove_exclamation_marks(sentense))\n",
        "\n",
        "\n",
        "# Пункт B. - Гузель Галлямова\n",
        "# Удалите восклицательный знак из конца строки. \n",
        "# remove(\"Hi!\") == \"Hi\"\n",
        "# remove(\"Hi!!!\") == \"Hi!!\"\n",
        "# remove(\"!Hi\") == \"!Hi\"\n",
        "\n",
        "def remove_last_em(s):\n",
        "  sentense = input('Введите восклицательное предложение: ')\n",
        "  if sentense[-1]==\"!\":\n",
        "        sentense = sentense[:-1]\n",
        "  return sentense\n",
        "\n",
        "print(remove_last_em(sentense))"
      ],
      "metadata": {
        "colab": {
          "base_uri": "https://localhost:8080/"
        },
        "id": "Mb1DHqS-wRZa",
        "outputId": "4a2893c1-95f1-4b23-c23a-4ea276e84125"
      },
      "execution_count": 72,
      "outputs": [
        {
          "output_type": "stream",
          "name": "stdout",
          "text": [
            "Введите восклицательное предложение: hello!!!\n",
            "hello!!\n"
          ]
        }
      ]
    }
  ]
}